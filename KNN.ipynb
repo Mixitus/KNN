{
 "cells": [
  {
   "cell_type": "code",
   "outputs": [],
   "source": [
    "import numpy as np\n",
    "import pandas as pd\n",
    "from sklearn.datasets import load_iris\n",
    "from sklearn.model_selection import train_test_split\n",
    "from sklearn.preprocessing import MinMaxScaler\n",
    "from sklearn.neighbors import KNeighborsClassifier\n",
    "from sklearn.metrics import accuracy_score, precision_score, recall_score\n",
    "\n",
    "# Load the Iris dataset\n",
    "iris = load_iris()\n",
    "X = iris.data\n",
    "y = iris.target\n",
    "\n",
    "# Rescaling the dataset\n",
    "rescaler = MinMaxScaler()\n",
    "X_scaled = rescaler.fit_transform(X)\n",
    "\n",
    "# Split dataset for cross-validation\n",
    "X_train, X_test, y_train, y_test = train_test_split(X_scaled, y, test_size=0.2, random_state=42)"
   ],
   "metadata": {
    "collapsed": false,
    "ExecuteTime": {
     "end_time": "2024-04-13T01:32:03.724039Z",
     "start_time": "2024-04-13T01:32:03.661671Z"
    }
   },
   "id": "d7826fdabf3a4277",
   "execution_count": 17
  },
  {
   "cell_type": "code",
   "outputs": [
    {
     "name": "stdout",
     "output_type": "stream",
     "text": [
      "K = 3: Accuracy = 1.0000, Precision = 1.0000, Recall = 1.0000\n",
      "K = 5: Accuracy = 1.0000, Precision = 1.0000, Recall = 1.0000\n",
      "K = 7: Accuracy = 1.0000, Precision = 1.0000, Recall = 1.0000\n",
      "K = 9: Accuracy = 1.0000, Precision = 1.0000, Recall = 1.0000\n"
     ]
    }
   ],
   "source": [
    "# Function to evaluate the machine learning model\n",
    "def evaluate_knn(X_train, X_test, y_train, y_test, k_values):\n",
    "    results = {}\n",
    "    for k in k_values:\n",
    "        # Set the value of neighbors to K to allow for input from the K-list\n",
    "        knn = KNeighborsClassifier(n_neighbors=k)\n",
    "        # Training the model\n",
    "        knn.fit(X_train, y_train)\n",
    "        # Prediction\n",
    "        y_pred = knn.predict(X_test)\n",
    "        # Computing the Accuracy\n",
    "        accuracy = accuracy_score(y_test, y_pred)\n",
    "        # Computing the Precision\n",
    "        precision = precision_score(y_test, y_pred, average='weighted')\n",
    "        # Computing the Recall\n",
    "        recall = recall_score(y_test, y_pred, average='weighted')\n",
    "        # return the k values\n",
    "        results[k] = {'accuracy': accuracy, 'precision': precision, 'recall': recall}\n",
    "    return results\n",
    "# Sample k values\n",
    "k_values = [3, 5, 7, 9]\n",
    "results = evaluate_knn(X_train, X_test, y_train, y_test, k_values)\n",
    "# Prints the evaluation metrics in a for-loop the length of the results dictionary\n",
    "for k, metrics in results.items():\n",
    "    print(f\"K = {k}: Accuracy ={metrics['accuracy']: .4f}, Precision ={metrics['precision']: .4f}, Recall ={metrics['recall']: .4f}\")\n"
   ],
   "metadata": {
    "collapsed": false,
    "ExecuteTime": {
     "end_time": "2024-04-13T01:32:04.986442Z",
     "start_time": "2024-04-13T01:32:04.868392Z"
    }
   },
   "id": "bf5da03ae6bc3603",
   "execution_count": 18
  }
 ],
 "metadata": {
  "kernelspec": {
   "display_name": "Python 3",
   "language": "python",
   "name": "python3"
  },
  "language_info": {
   "codemirror_mode": {
    "name": "ipython",
    "version": 2
   },
   "file_extension": ".py",
   "mimetype": "text/x-python",
   "name": "python",
   "nbconvert_exporter": "python",
   "pygments_lexer": "ipython2",
   "version": "2.7.6"
  }
 },
 "nbformat": 4,
 "nbformat_minor": 5
}
